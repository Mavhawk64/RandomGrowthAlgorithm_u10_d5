{
 "cells": [
  {
   "cell_type": "code",
   "execution_count": 1,
   "id": "59010dc5",
   "metadata": {},
   "outputs": [],
   "source": [
    "from random import randint\n",
    "AMT_TRIALS = 1000\n",
    "AMT_YEARS = 10\n",
    "AMT_SECTIONS_PER_YEAR = 12\n",
    "AMT_STOCKS = 10\n",
    "GAIN_CUT_OFF = 0.1\n",
    "GUT_CHECK = -0.05\n",
    "STARTING_BALANCE = 6000\n",
    "WIN_PROBABILITY = 0.5\n",
    "# MIN_WIN_PROB = -GUT_CHECK / (GAIN_CUT_OFF - GUT_CHECK)\n",
    "\n",
    "\n",
    "ADD_YEARLY_INVESTMENT = STARTING_BALANCE\n",
    "\n",
    "ACCURACY = 1.e6\n",
    "\n",
    "SP_500_AVG_GAIN_YEAR = 0.1\n",
    "\n",
    "total_balance = 0"
   ]
  },
  {
   "cell_type": "code",
   "execution_count": 2,
   "id": "d800d28d",
   "metadata": {},
   "outputs": [],
   "source": [
    "def irr_calculator(cash_flows, guess=0,limit=100):\n",
    "\tnew_guess = guess - f(guess, cash_flows) / d(guess, cash_flows)\n",
    "\tif new_guess == guess or limit <= 0:\n",
    "\t\treturn new_guess\n",
    "\treturn irr_calculator(cash_flows,new_guess,limit-1)"
   ]
  },
  {
   "cell_type": "code",
   "execution_count": 3,
   "id": "47dff615",
   "metadata": {},
   "outputs": [],
   "source": [
    "def f(guess, cash_flows):\n",
    "\ts = 0\n",
    "\tfor i in range(0, len(cash_flows)):\n",
    "\t\ts += cash_flows[i] / (1 + guess) ** i\n",
    "\treturn s"
   ]
  },
  {
   "cell_type": "code",
   "execution_count": 4,
   "id": "79df77c8",
   "metadata": {},
   "outputs": [],
   "source": [
    "def d(guess, cash_flows):\n",
    "\ts = 0\n",
    "\tfor i in range(0, len(cash_flows)):\n",
    "\t\ts += -i * cash_flows[i] / (1 + guess) ** (i+1)\n",
    "\treturn s"
   ]
  },
  {
   "cell_type": "code",
   "execution_count": 5,
   "id": "3003c5ce",
   "metadata": {},
   "outputs": [],
   "source": [
    "for trials in range(0,AMT_TRIALS):\n",
    "\tbalance = STARTING_BALANCE\n",
    "\tfor year in range(0,AMT_YEARS):\n",
    "\t\tfor sections in range(0,AMT_SECTIONS_PER_YEAR):\n",
    "\t\t\tamt_per_stock = balance / AMT_STOCKS\n",
    "\t\t\tstocks = {\"ups\": 0, \"downs\": 0}\n",
    "\t\t\tfor j in range(0, AMT_STOCKS):\n",
    "\t\t\t\tif randint(0,ACCURACY) <= WIN_PROBABILITY * ACCURACY:\n",
    "\t\t\t\t\tstocks[\"ups\"] += 1\n",
    "\t\t\t\telse:\n",
    "\t\t\t\t\tstocks[\"downs\"] += 1\n",
    "\t\t\tbalance = 0\n",
    "\t\t\tfor j in range(0, stocks[\"ups\"]):\n",
    "\t\t\t\tbalance += amt_per_stock * (1 + GAIN_CUT_OFF)\n",
    "\t\t\tfor j in range(0, stocks[\"downs\"]):\n",
    "\t\t\t\tbalance += amt_per_stock * (1 + GUT_CHECK)\n",
    "\t\tif year != AMT_YEARS - 1:\n",
    "\t\t\tbalance += ADD_YEARLY_INVESTMENT\n",
    "\ttotal_balance += balance\n",
    "average_balance = total_balance / AMT_TRIALS\n",
    "\n",
    "avg_cash_flow = [-STARTING_BALANCE]\n",
    "for i in range(0, AMT_YEARS-1):\n",
    "\tavg_cash_flow.append(-ADD_YEARLY_INVESTMENT)\n",
    "avg_cash_flow.append(average_balance)\n",
    "irr = irr_calculator(avg_cash_flow)\n",
    "sp_500_bal = STARTING_BALANCE\n",
    "for year in range(0,AMT_YEARS):\n",
    "\tsp_500_bal += sp_500_bal * SP_500_AVG_GAIN_YEAR\n",
    "\tif year != AMT_YEARS - 1:\n",
    "\t\tsp_500_bal += ADD_YEARLY_INVESTMENT\n",
    "avg_cash_flow = avg_cash_flow[:-1]\n",
    "avg_cash_flow.append(sp_500_bal)\n",
    "spirr = irr_calculator(avg_cash_flow)"
   ]
  },
  {
   "cell_type": "code",
   "execution_count": 6,
   "id": "54006fef",
   "metadata": {},
   "outputs": [
    {
     "name": "stdout",
     "output_type": "stream",
     "text": [
      "STARTING BALANCE   : $6,000.00\n",
      "YEARLY INVESTMENT  : $6,000.00\n",
      "EST. ENDING BALANCE: $425,823.50\n",
      "ESTIMATED IRR VALUE: +34.34%\n",
      "(10-YEAR, 1,000-TRIAL ESTIMATE @ +10.00% GAIN CUT-OFF, -5.00% GUT-CHECK, 50.00% WIN PROBABILITY, 10 STOCKS, 12 CASH-INS PER YEAR)\n",
      "EST. SP END BALANCE: $105,187.00\n",
      "EST. SP IRR VALUE  : +10.00%\n",
      "(10-YEAR ESTIMATE @ +10.00% S&P-500 AVERAGE GAIN PER YEAR)\n"
     ]
    }
   ],
   "source": [
    "print(f\"STARTING BALANCE   : ${STARTING_BALANCE:,.2f}\")\n",
    "print(f\"YEARLY INVESTMENT  : ${ADD_YEARLY_INVESTMENT:,.2f}\")\n",
    "print(f\"EST. ENDING BALANCE: ${average_balance:,.2f}\")\n",
    "print(f\"ESTIMATED IRR VALUE: {irr * 100:+,.2f}%\")\n",
    "print(f\"({AMT_YEARS}-YEAR, {AMT_TRIALS:,}-TRIAL ESTIMATE @ {GAIN_CUT_OFF*100:+.2f}% GAIN CUT-OFF, {GUT_CHECK*100:.2f}% GUT-CHECK, {WIN_PROBABILITY*100:.2f}% WIN PROBABILITY, {AMT_STOCKS:,} STOCKS, {AMT_SECTIONS_PER_YEAR} CASH-INS PER YEAR)\")\n",
    "print(f\"EST. SP END BALANCE: ${sp_500_bal:,.2f}\")\n",
    "print(f\"EST. SP IRR VALUE  : {spirr * 100:+,.2f}%\")\n",
    "print(f\"({AMT_YEARS}-YEAR ESTIMATE @ {SP_500_AVG_GAIN_YEAR*100:+.2f}% S&P-500 AVERAGE GAIN PER YEAR)\")"
   ]
  },
  {
   "cell_type": "code",
   "execution_count": null,
   "id": "72c63cc6",
   "metadata": {},
   "outputs": [],
   "source": []
  }
 ],
 "metadata": {
  "kernelspec": {
   "display_name": "Python 3 (ipykernel)",
   "language": "python",
   "name": "python3"
  },
  "language_info": {
   "codemirror_mode": {
    "name": "ipython",
    "version": 3
   },
   "file_extension": ".py",
   "mimetype": "text/x-python",
   "name": "python",
   "nbconvert_exporter": "python",
   "pygments_lexer": "ipython3",
   "version": "3.10.4"
  }
 },
 "nbformat": 4,
 "nbformat_minor": 5
}
